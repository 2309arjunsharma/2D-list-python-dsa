{
 "cells": [
  {
   "cell_type": "code",
   "execution_count": null,
   "metadata": {},
   "outputs": [],
   "source": [
    "def rotate_90(matrix):\n",
    "    \"\"\"\n",
    "    Function to rotate a matrix 90 degrees clockwise.\n",
    "    :param matrix: List[List[int]] -> The matrix to rotate\n",
    "    :return: List[List[int]] -> Rotated matrix\n",
    "    \"\"\"\n",
    "    n = len(matrix)\n",
    "    rotated = [[0] * n for _ in range(n)]\n",
    "    \n",
    "    for i in range(n):\n",
    "        for j in range(n):\n",
    "            rotated[j][n - 1 - i] = matrix[i][j]\n",
    "    \n",
    "    return rotated\n",
    " \n",
    "def can_be_rotated(mat, target):\n",
    "    \"\"\"\n",
    "    Function to check if mat can be rotated to match target.\n",
    "    :param mat: List[List[int]] -> The original matrix\n",
    "    :param target: List[List[int]] -> The target matrix\n",
    "    :return: bool -> True if mat can be rotated to match target, otherwise False\n",
    "    \"\"\"\n",
    "    for _ in range(4):\n",
    "        if mat == target:\n",
    "            return True\n",
    "        mat = rotate_90(mat)\n",
    "    return False\n",
    " \n",
    "# Helper function to display the result (for debugging)\n",
    "def display_result(mat, target):\n",
    "    result = can_be_rotated(mat, target)\n",
    "    print(result)\n",
    "mat = [[0, 1], [1, 0]]\n",
    "target = [[1, 0], [0, 1]]\n",
    "display_result(mat, target)  # Output should be True"
   ]
  }
 ],
 "metadata": {
  "kernelspec": {
   "display_name": "base",
   "language": "python",
   "name": "python3"
  },
  "language_info": {
   "name": "python",
   "version": "3.12.4"
  }
 },
 "nbformat": 4,
 "nbformat_minor": 2
}
