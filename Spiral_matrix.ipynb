{
 "cells": [
  {
   "cell_type": "code",
   "execution_count": 1,
   "metadata": {},
   "outputs": [
    {
     "name": "stdout",
     "output_type": "stream",
     "text": [
      "[1, 2, 3, 6, 9, 8, 7, 4, 5]\n"
     ]
    }
   ],
   "source": [
    "def spiral_order(matrix):\n",
    "    \"\"\"\n",
    "    Function to return the elements of the matrix in spiral order.\n",
    "    :param matrix: List[List[int]] -> The input matrix\n",
    "    :return: List[int] -> The elements in spiral order\n",
    "    \"\"\"\n",
    "    result = []\n",
    "    \n",
    "    # Define the boundaries for traversal\n",
    "    top, bottom = 0, len(matrix) - 1\n",
    "    left, right = 0, len(matrix[0]) - 1\n",
    "    \n",
    "    while top <= bottom and left <= right:\n",
    "        # Traverse from left to right along the top row\n",
    "        for i in range(left, right + 1):\n",
    "            result.append(matrix[top][i])\n",
    "        top += 1  # Move the top boundary down\n",
    "        \n",
    "        # Traverse from top to bottom along the right column\n",
    "        for i in range(top, bottom + 1):\n",
    "            result.append(matrix[i][right])\n",
    "        right -= 1  # Move the right boundary to the left\n",
    "        \n",
    "        if top <= bottom:\n",
    "            # Traverse from right to left along the bottom row\n",
    "            for i in range(right, left - 1, -1):\n",
    "                result.append(matrix[bottom][i])\n",
    "            bottom -= 1  # Move the bottom boundary up\n",
    "        \n",
    "        if left <= right:\n",
    "            # Traverse from bottom to top along the left column\n",
    "            for i in range(bottom, top - 1, -1):\n",
    "                result.append(matrix[i][left])\n",
    "            left += 1  # Move the left boundary to the right\n",
    "    \n",
    "    return result\n",
    " \n",
    "# Helper function to display the result (for debugging)\n",
    "def display_result(matrix):\n",
    "    result = spiral_order(matrix)\n",
    "    print(result)\n",
    " \n",
    "# Example usage (can be removed)\n",
    "matrix = [[1, 2, 3], [4, 5, 6], [7, 8, 9]]\n",
    "display_result(matrix)"
   ]
  }
 ],
 "metadata": {
  "kernelspec": {
   "display_name": "base",
   "language": "python",
   "name": "python3"
  },
  "language_info": {
   "codemirror_mode": {
    "name": "ipython",
    "version": 3
   },
   "file_extension": ".py",
   "mimetype": "text/x-python",
   "name": "python",
   "nbconvert_exporter": "python",
   "pygments_lexer": "ipython3",
   "version": "3.12.4"
  }
 },
 "nbformat": 4,
 "nbformat_minor": 2
}
