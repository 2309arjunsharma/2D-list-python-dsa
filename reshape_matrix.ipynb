{
 "cells": [
  {
   "cell_type": "code",
   "execution_count": null,
   "metadata": {},
   "outputs": [],
   "source": [
    "def matrix_reshape(mat, r, c):\n",
    "    \"\"\"\n",
    "    Function to reshape a matrix.\n",
    "    :param mat: List[List[int]] -> The original matrix\n",
    "    :param r: int -> Number of rows in reshaped matrix\n",
    "    :param c: int -> Number of columns in reshaped matrix\n",
    "    :return: List[List[int]] -> The reshaped matrix or original matrix if not possible\n",
    "    \"\"\"\n",
    "    m = len(mat)\n",
    "    n = len(mat[0])\n",
    "    \n",
    "    # Check if reshaping is possible by comparing total elements\n",
    "    if m * n != r * c:\n",
    "        return mat\n",
    " \n",
    "    # Flatten the matrix into a 1D list\n",
    "    flat_list = []\n",
    "    for row in mat:\n",
    "        for num in row:\n",
    "            flat_list.append(num)\n",
    "    \n",
    "    # Create a new reshaped matrix\n",
    "    reshaped_matrix = []\n",
    "    for i in range(r):\n",
    "        reshaped_matrix.append(flat_list[i * c:(i + 1) * c])\n",
    "    \n",
    "    return reshaped_matrix\n",
    " \n",
    "# Helper function for debugging (can be removed for production)\n",
    "def display_reshaped_matrix(mat, r, c):\n",
    "    result = matrix_reshape(mat, r, c)\n",
    "    for row in result:\n",
    "        print(row)\n",
    " \n",
    "mat = [[1, 2], [3, 4]]\n",
    "r, c = 1, 4\n",
    "display_reshaped_matrix(mat, r, c)  # Output: [[1, 2, 3, 4]]\n"
   ]
  }
 ],
 "metadata": {
  "kernelspec": {
   "display_name": "base",
   "language": "python",
   "name": "python3"
  },
  "language_info": {
   "codemirror_mode": {
    "name": "ipython",
    "version": 3
   },
   "file_extension": ".py",
   "mimetype": "text/x-python",
   "name": "python",
   "nbconvert_exporter": "python",
   "pygments_lexer": "ipython3",
   "version": "3.12.4"
  }
 },
 "nbformat": 4,
 "nbformat_minor": 2
}
