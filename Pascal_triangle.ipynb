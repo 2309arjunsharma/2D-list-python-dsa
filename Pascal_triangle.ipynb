{
 "cells": [
  {
   "cell_type": "code",
   "execution_count": 2,
   "metadata": {},
   "outputs": [
    {
     "name": "stdout",
     "output_type": "stream",
     "text": [
      "[[1], [1, 1], [1, 2, 1], [1, 3, 3, 1], [1, 4, 6, 4, 1]]\n"
     ]
    }
   ],
   "source": [
    "def generate(numRows):\n",
    "    \"\"\"\n",
    "    Function to generate the first numRows of Pascal's triangle.\n",
    "    :param numRows: int -> Number of rows of Pascal's triangle to generate\n",
    "    :return: List[List[int]] -> The first numRows of Pascal's triangle\n",
    "    \"\"\"\n",
    "    # TODO: Implement this function\n",
    "    Pascal=[]\n",
    "    for i in range(numRows):\n",
    "        row=[1]*(i+1)\n",
    "        for j in range(1,i):\n",
    "            row[j]=Pascal[i-1][j-1]+Pascal[i-1][j]\n",
    "        Pascal.append(row)\n",
    "    return Pascal\n",
    "print(generate(5))\n",
    "        \n"
   ]
  }
 ],
 "metadata": {
  "kernelspec": {
   "display_name": "base",
   "language": "python",
   "name": "python3"
  },
  "language_info": {
   "codemirror_mode": {
    "name": "ipython",
    "version": 3
   },
   "file_extension": ".py",
   "mimetype": "text/x-python",
   "name": "python",
   "nbconvert_exporter": "python",
   "pygments_lexer": "ipython3",
   "version": "3.12.4"
  }
 },
 "nbformat": 4,
 "nbformat_minor": 2
}
