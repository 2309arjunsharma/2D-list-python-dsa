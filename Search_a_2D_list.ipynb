{
 "cells": [
  {
   "cell_type": "code",
   "execution_count": null,
   "metadata": {},
   "outputs": [],
   "source": [
    "def search_matrix(matrix, target):\n",
    "    \"\"\"\n",
    "    Function to search for a target in the matrix using binary search.\n",
    "    :param matrix: List[List[int]] -> The input matrix\n",
    "    :param target: int -> The target value to search for\n",
    "    :return: bool -> True if target is found, False otherwise\n",
    "    \"\"\"\n",
    "    if not matrix or not matrix[0]:\n",
    "        return False\n",
    " \n",
    "    rows = len(matrix)\n",
    "    cols = len(matrix[0])\n",
    "    \n",
    "    # Perform binary search on the virtual array\n",
    "    left, right = 0, rows * cols - 1\n",
    "    \n",
    "    while left <= right:\n",
    "        mid = (left + right) // 2\n",
    "        # Calculate row and column based on mid index\n",
    "        row = mid // cols\n",
    "        col = mid % cols\n",
    "        mid_value = matrix[row][col]\n",
    "        \n",
    "        if mid_value == target:\n",
    "            return True\n",
    "        elif mid_value < target:\n",
    "            left = mid + 1\n",
    "        else:\n",
    "            right = mid - 1\n",
    "    \n",
    "    return False\n",
    " \n",
    "# Helper function to display the result (for debugging)\n",
    "def display_result(matrix, target):\n",
    "    result = search_matrix(matrix, target)\n",
    "    print(result)\n",
    " \n",
    "# Example usage (can be removed)\n",
    "matrix = [[1, 3, 5, 7], [10, 11, 16, 20], [23, 30, 34, 60]]\n",
    "target = 3\n",
    "display_result(matrix, target)  # Output should be True\n"
   ]
  }
 ],
 "metadata": {
  "kernelspec": {
   "display_name": "base",
   "language": "python",
   "name": "python3"
  },
  "language_info": {
   "name": "python",
   "version": "3.12.4"
  }
 },
 "nbformat": 4,
 "nbformat_minor": 2
}
